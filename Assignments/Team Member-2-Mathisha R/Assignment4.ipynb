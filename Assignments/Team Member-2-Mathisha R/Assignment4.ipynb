{
  "nbformat": 4,
  "nbformat_minor": 0,
  "metadata": {
    "colab": {
      "private_outputs": true,
      "provenance": [],
      "collapsed_sections": []
    },
    "kernelspec": {
      "name": "python3",
      "display_name": "Python 3"
    },
    "language_info": {
      "name": "python"
    }
  },
  "cells": [
    {
      "cell_type": "markdown",
      "source": [
        "###**IMPORTING LIBRARIES**"
      ],
      "metadata": {
        "id": "3Gj95cSOgJyE"
      }
    },
    {
      "cell_type": "code",
      "source": [
        "import pandas as pd\n",
        "import numpy as np\n",
        "from matplotlib import pyplot as plt\n",
        "import seaborn as sns\n",
        "from sklearn.linear_model import LinearRegression"
      ],
      "metadata": {
        "id": "QKiMeRIdgKk2"
      },
      "execution_count": null,
      "outputs": []
    },
    {
      "cell_type": "markdown",
      "source": [
        "###2. Load the dataset into the Google Colab"
      ],
      "metadata": {
        "id": "G_pmNDaRgRY-"
      }
    },
    {
      "cell_type": "code",
      "source": [
        "df=pd.read_csv(\"/content/sample_data/content/abalone.csv\")"
      ],
      "metadata": {
        "id": "GyjWzwWmgNsC"
      },
      "execution_count": null,
      "outputs": []
    },
    {
      "cell_type": "code",
      "source": [
        "df['age'] = df['Rings']+1.5\n",
        "df = df.drop('Rings', axis = 1)"
      ],
      "metadata": {
        "id": "hxKGnvDqgWEV"
      },
      "execution_count": null,
      "outputs": []
    },
    {
      "cell_type": "markdown",
      "source": [
        "###3. UNIVARIATE ANALYSIS"
      ],
      "metadata": {
        "id": "gE4P8edUgf46"
      }
    },
    {
      "cell_type": "code",
      "source": [
        "df.hist(figsize=(20,10), grid=False, layout=(2, 4), bins = 30)"
      ],
      "metadata": {
        "id": "VAQKk3_-gcL1"
      },
      "execution_count": null,
      "outputs": []
    },
    {
      "cell_type": "code",
      "source": [
        "df.groupby('Sex')[['Length', 'Diameter', 'Height', 'Whole weight', 'Shucked weight',\n",
        "       'Viscera weight', 'Shell weight', 'age']].mean().sort_values('age')"
      ],
      "metadata": {
        "id": "48UGFKfxgl6c"
      },
      "execution_count": null,
      "outputs": []
    },
    {
      "cell_type": "markdown",
      "source": [
        "### 3. BIVARIATE ANALYSIS & MULTIVARIATE ANALYSIS"
      ],
      "metadata": {
        "id": "Lwuhufa4gvUy"
      }
    },
    {
      "cell_type": "code",
      "source": [
        "numerical_features = df.select_dtypes(include = [np.number]).columns\n",
        "sns.pairplot(df[numerical_features])"
      ],
      "metadata": {
        "id": "f2wBSHZugrpY"
      },
      "execution_count": null,
      "outputs": []
    },
    {
      "cell_type": "markdown",
      "source": [
        "###4. Descriptive statistics "
      ],
      "metadata": {
        "id": "aO7EN9erg6Ym"
      }
    },
    {
      "cell_type": "code",
      "source": [
        "df.describe()"
      ],
      "metadata": {
        "id": "gJBFHd6Jg0hc"
      },
      "execution_count": null,
      "outputs": []
    },
    {
      "cell_type": "markdown",
      "source": [
        "###5. Check for Missing Values"
      ],
      "metadata": {
        "id": "Znvp2XaQg-DW"
      }
    },
    {
      "cell_type": "code",
      "source": [
        "df.isnull().sum()"
      ],
      "metadata": {
        "id": "aCU3pRsHhBu0"
      },
      "execution_count": null,
      "outputs": []
    },
    {
      "cell_type": "markdown",
      "source": [
        "###6. OUTLIER HANDLING"
      ],
      "metadata": {
        "id": "xJpf0rSghH38"
      }
    },
    {
      "cell_type": "code",
      "source": [
        "df = pd.get_dummies(df)\n",
        "dummy_data = df.copy()"
      ],
      "metadata": {
        "id": "8TR6OMFLhIst"
      },
      "execution_count": null,
      "outputs": []
    },
    {
      "cell_type": "code",
      "source": [
        "var = 'Viscera weight'\n",
        "plt.scatter(x = df[var], y = df['age'],)\n",
        "plt.grid(True)"
      ],
      "metadata": {
        "id": "lIl1ds_7hMLn"
      },
      "execution_count": null,
      "outputs": []
    },
    {
      "cell_type": "code",
      "source": [
        "# outliers removal\n",
        "df.drop(df[(df['Viscera weight']> 0.5) & (df['age'] < 20)].index, inplace=True)\n",
        "df.drop(df[(df['Viscera weight']<0.5) & (df['age'] > 25)].index, inplace=True)"
      ],
      "metadata": {
        "id": "Tssz9MOPhXT0"
      },
      "execution_count": null,
      "outputs": []
    },
    {
      "cell_type": "code",
      "source": [
        "var = 'Shell weight'\n",
        "plt.scatter(x = df[var], y = df['age'],)\n",
        "plt.grid(True)\n",
        "#Outliers removal\n",
        "df.drop(df[(df['Shell weight']> 0.6) & (df['age'] < 25)].index, inplace=True)\n",
        "df.drop(df[(df['Shell weight']<0.8) & (df['age'] > 25)].index, inplace=True)"
      ],
      "metadata": {
        "id": "P8oCqgOPhYHt"
      },
      "execution_count": null,
      "outputs": []
    },
    {
      "cell_type": "code",
      "source": [
        "var = 'Shucked weight'\n",
        "plt.scatter(x = df[var], y = df['age'],)\n",
        "plt.grid(True)\n",
        "\n",
        "#Outlier removal\n",
        "df.drop(df[(df['Shucked weight']>= 1) & (df['age'] < 20)].index, inplace=True)\n",
        "df.drop(df[(df['Shucked weight']<1) & (df['age'] > 20)].index, inplace=True)"
      ],
      "metadata": {
        "id": "mkxERgsiheNn"
      },
      "execution_count": null,
      "outputs": []
    },
    {
      "cell_type": "code",
      "source": [
        "var = 'Whole weight'\n",
        "plt.scatter(x = df[var], y = df['age'])\n",
        "plt.grid(True)\n",
        "\n",
        "df.drop(df[(df['Whole weight'] >= 2.5) &\n",
        "          (df['age'] < 25)].index, inplace = True)\n",
        "df.drop(df[(df['Whole weight']<2.5) & (\n",
        "df['age'] > 25)].index, inplace = True)"
      ],
      "metadata": {
        "id": "ZIqY6VQbhfBg"
      },
      "execution_count": null,
      "outputs": []
    },
    {
      "cell_type": "code",
      "source": [
        "var = 'Diameter'\n",
        "plt.scatter(x = df[var], y = df['age'])\n",
        "plt.grid(True)\n",
        "\n",
        "df.drop(df[(df['Diameter'] <0.1) &\n",
        "          (df['age'] < 5)].index, inplace = True)\n",
        "df.drop(df[(df['Diameter']<0.6) & (\n",
        "df['age'] > 25)].index, inplace = True)\n",
        "df.drop(df[(df['Diameter']>=0.6) & (\n",
        "df['age'] < 25)].index, inplace = True)"
      ],
      "metadata": {
        "id": "WtUd0pnDhjOT"
      },
      "execution_count": null,
      "outputs": []
    },
    {
      "cell_type": "code",
      "source": [
        "var = 'Height'\n",
        "plt.scatter(x = df[var], y = df['age'])\n",
        "plt.grid(True)\n",
        "df.drop(df[(df['Height'] > 0.4) &\n",
        "          (df['age'] < 15)].index, inplace = True)\n",
        "df.drop(df[(df['Height']<0.4) & (\n",
        "df['age'] > 25)].index, inplace = True)\n",
        "\n"
      ],
      "metadata": {
        "id": "QZi32d5Vhmk7"
      },
      "execution_count": null,
      "outputs": []
    },
    {
      "cell_type": "code",
      "source": [
        "var = 'Length'\n",
        "plt.scatter(x = df[var], y = df['age'])\n",
        "plt.grid(True)\n",
        "\n",
        "df.drop(df[(df['Length'] <0.1) &\n",
        "          (df['age'] < 5)].index, inplace = True)\n",
        "df.drop(df[(df['Length']<0.8) & (\n",
        "df['age'] > 25)].index, inplace = True)\n",
        "df.drop(df[(df['Length']>=0.8) & (\n",
        "df['age'] < 25)].index, inplace = True)"
      ],
      "metadata": {
        "id": "b7z01yWfhrpt"
      },
      "execution_count": null,
      "outputs": []
    },
    {
      "cell_type": "markdown",
      "source": [
        "###7. Categorical columns"
      ],
      "metadata": {
        "id": "1afrERDYhu6f"
      }
    },
    {
      "cell_type": "code",
      "source": [
        "numerical_features = df.select_dtypes(include = [np.number]).columns\n",
        "categorical_features = df.select_dtypes(include = [np.object]).columns\n"
      ],
      "metadata": {
        "id": "RWT-wOVahyeS"
      },
      "execution_count": null,
      "outputs": []
    },
    {
      "cell_type": "code",
      "source": [
        "numerical_features"
      ],
      "metadata": {
        "id": "QKqgE_zjh0zi"
      },
      "execution_count": null,
      "outputs": []
    },
    {
      "cell_type": "code",
      "source": [
        "categorical_features"
      ],
      "metadata": {
        "id": "QB6XtX6Gh029"
      },
      "execution_count": null,
      "outputs": []
    },
    {
      "cell_type": "markdown",
      "source": [
        "###**ENCODING**"
      ],
      "metadata": {
        "id": "D0ll3Rach53r"
      }
    },
    {
      "cell_type": "code",
      "source": [
        "from sklearn.preprocessing import LabelEncoder\n",
        "le=LabelEncoder()\n",
        "print(df.Length.value_counts())"
      ],
      "metadata": {
        "id": "EQ5jvierh8MR"
      },
      "execution_count": null,
      "outputs": []
    },
    {
      "cell_type": "markdown",
      "source": [
        "###8. Split the dependent and independent variables"
      ],
      "metadata": {
        "id": "DqI7D3J_iCuQ"
      }
    },
    {
      "cell_type": "code",
      "source": [
        "x=df.iloc[:,:5]\n",
        "x"
      ],
      "metadata": {
        "id": "Wezf2fV1h_tI"
      },
      "execution_count": null,
      "outputs": []
    },
    {
      "cell_type": "code",
      "source": [
        "y=df.iloc[:,5:]\n",
        "y"
      ],
      "metadata": {
        "id": "1e427sMUiI05"
      },
      "execution_count": null,
      "outputs": []
    },
    {
      "cell_type": "markdown",
      "source": [
        "###9. Feature Scaling"
      ],
      "metadata": {
        "id": "JK5msB46iQ6F"
      }
    },
    {
      "cell_type": "code",
      "source": [
        "from sklearn.preprocessing import StandardScaler\n",
        "ss=StandardScaler()\n",
        "x_train=ss.fit_transform(x_train)"
      ],
      "metadata": {
        "id": "yQ_yIhjjiMx6"
      },
      "execution_count": null,
      "outputs": []
    },
    {
      "cell_type": "code",
      "source": [
        "mlrpred=mlr.predict(x_test[0:9])"
      ],
      "metadata": {
        "id": "eWzT5EhSiVGo"
      },
      "execution_count": null,
      "outputs": []
    },
    {
      "cell_type": "code",
      "source": [
        "mlrpred"
      ],
      "metadata": {
        "id": "nikagrHNiXtW"
      },
      "execution_count": null,
      "outputs": []
    },
    {
      "cell_type": "markdown",
      "source": [
        "###10. Train , Test , Split"
      ],
      "metadata": {
        "id": "PjJU_PQcifgy"
      }
    },
    {
      "cell_type": "code",
      "source": [
        "from sklearn.model_selection import train_test_split\n",
        "x_train,x_test,y_train,y_test=train_test_split(x,y,test_size=0.2)"
      ],
      "metadata": {
        "id": "a1Iav8EaigQp"
      },
      "execution_count": null,
      "outputs": []
    },
    {
      "cell_type": "markdown",
      "source": [
        "###11. Model building "
      ],
      "metadata": {
        "id": "eKpmNggaii6q"
      }
    },
    {
      "cell_type": "code",
      "source": [
        "from sklearn.linear_model import LinearRegression\n",
        "mlr=LinearRegression()\n",
        "mlr.fit(x_train,y_train)"
      ],
      "metadata": {
        "id": "8jBSfX5filgg"
      },
      "execution_count": null,
      "outputs": []
    },
    {
      "cell_type": "markdown",
      "source": [
        "###12 & 13. Train and Test the model"
      ],
      "metadata": {
        "id": "DnFcV0G_iohS"
      }
    },
    {
      "cell_type": "code",
      "source": [
        "x_test[0:5]"
      ],
      "metadata": {
        "id": "wZKZZVWkirDX"
      },
      "execution_count": null,
      "outputs": []
    },
    {
      "cell_type": "code",
      "source": [
        "y_test[0:5]"
      ],
      "metadata": {
        "id": "V-RWrJO2ivpv"
      },
      "execution_count": null,
      "outputs": []
    },
    {
      "cell_type": "markdown",
      "source": [
        "###14. Measure the performance using metrics"
      ],
      "metadata": {
        "id": "G58lp5aBiyXS"
      }
    },
    {
      "cell_type": "code",
      "source": [
        "from sklearn.metrics import r2_score\n",
        "r2_score(mlr.predict(x_test),y_test)"
      ],
      "metadata": {
        "id": "Uo8Yu2WFi1Qe"
      },
      "execution_count": null,
      "outputs": []
    }
  ]
}