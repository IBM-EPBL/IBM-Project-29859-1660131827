{
  "nbformat": 4,
  "nbformat_minor": 0,
  "metadata": {
    "colab": {
      "provenance": [],
      "collapsed_sections": []
    },
    "kernelspec": {
      "name": "python3",
      "display_name": "Python 3"
    },
    "language_info": {
      "name": "python"
    }
  },
  "cells": [
    {
      "cell_type": "markdown",
      "source": [
        "## Exercises\n",
        "\n",
        "Answer the questions or complete the tasks outlined in bold below, use the specific method described if applicable.\n",
        "\n",
        "** What is 7 to the power of 4?**"
      ],
      "metadata": {
        "id": "ZtopYxa0tRWo"
      }
    },
    {
      "cell_type": "code",
      "source": [
        "7**4"
      ],
      "metadata": {
        "colab": {
          "base_uri": "https://localhost:8080/"
        },
        "id": "hAoFXphUtqAR",
        "outputId": "f92edeea-27d4-4a71-80a4-4955a721ee73"
      },
      "execution_count": null,
      "outputs": [
        {
          "output_type": "execute_result",
          "data": {
            "text/plain": [
              "2401"
            ]
          },
          "metadata": {},
          "execution_count": 2
        }
      ]
    },
    {
      "cell_type": "markdown",
      "source": [
        "** Split this string:**\n",
        "\n",
        "    s = \"Hi there Sam!\"\n",
        "    \n",
        "**into a list. **"
      ],
      "metadata": {
        "id": "RcIKuZqAt6ap"
      }
    },
    {
      "cell_type": "code",
      "source": [
        "s=\"Hi there Sam!\"\n",
        "s=s.split()\n",
        "print(s);"
      ],
      "metadata": {
        "colab": {
          "base_uri": "https://localhost:8080/"
        },
        "id": "WKxNNuG6t-gf",
        "outputId": "0c8bec5e-2af8-408b-e2cf-14e0f05a0f01"
      },
      "execution_count": null,
      "outputs": [
        {
          "output_type": "stream",
          "name": "stdout",
          "text": [
            "['Hi', 'there', 'Sam!']\n"
          ]
        }
      ]
    },
    {
      "cell_type": "markdown",
      "source": [
        "** Given the variables:**\n",
        "\n",
        "    planet = \"Earth\"\n",
        "    diameter = 12742\n",
        "\n",
        "** Use .format() to print the following string: **\n",
        "\n",
        "    The diameter of Earth is 12742 kilometers."
      ],
      "metadata": {
        "id": "RP9ii9NPuYCx"
      }
    },
    {
      "cell_type": "code",
      "source": [
        "planet= \"Earth\"\n",
        "diameter= 12742\n",
        "print(\"The diameter of {} is {} kilometers.\".format(planet,diameter));"
      ],
      "metadata": {
        "colab": {
          "base_uri": "https://localhost:8080/"
        },
        "id": "TYlnEn8ruhNi",
        "outputId": "553b6925-7b43-460a-eaf8-55a2d429d41c"
      },
      "execution_count": null,
      "outputs": [
        {
          "output_type": "stream",
          "name": "stdout",
          "text": [
            "The diameter of Earth is 12742 kilometers.\n"
          ]
        }
      ]
    },
    {
      "cell_type": "markdown",
      "source": [
        "** Given this nested list, use indexing to grab the word \"hello\" **"
      ],
      "metadata": {
        "id": "nDrbqRiPuy0C"
      }
    },
    {
      "cell_type": "code",
      "source": [
        "lst = [1,2,[3,4],[5,[100,200,['hello']],23,11],1,7]"
      ],
      "metadata": {
        "id": "M461nd8suzvL"
      },
      "execution_count": null,
      "outputs": []
    },
    {
      "cell_type": "code",
      "source": [
        "nestedList =[1,2,[3,4],[5,[100,200,['hello']],23,11],1,7]\n",
        "print(nestedList[3][1][2][0])"
      ],
      "metadata": {
        "colab": {
          "base_uri": "https://localhost:8080/"
        },
        "id": "Svlfp1mLu3h4",
        "outputId": "06d05e3e-069e-4e6b-cf84-fba4cca31de3"
      },
      "execution_count": null,
      "outputs": [
        {
          "output_type": "stream",
          "name": "stdout",
          "text": [
            "hello\n"
          ]
        }
      ]
    },
    {
      "cell_type": "markdown",
      "source": [
        "** Given this nest dictionary grab the word \"hello\". Be prepared, this will be annoying/tricky **\n"
      ],
      "metadata": {
        "id": "oI2GcsM2wIRE"
      }
    },
    {
      "cell_type": "code",
      "source": [
        "d = {'k1':[1,2,3,{'tricky':['oh','man','inception',{'target':[1,2,3,'hello']}]}]}"
      ],
      "metadata": {
        "id": "2_O4kpi5wJze"
      },
      "execution_count": 8,
      "outputs": []
    },
    {
      "cell_type": "code",
      "source": [
        "d = {'k1':[1,2,3,{'tricky':['oh','man','inception',{'target':[1,2,3,'hello']}]}]}\n",
        "print(d['k1'][3]['tricky'][3]['target'][3])\n"
      ],
      "metadata": {
        "id": "yp20KcADwO9y",
        "colab": {
          "base_uri": "https://localhost:8080/"
        },
        "outputId": "951ee53f-521c-416a-d034-4575b54c0a6e"
      },
      "execution_count": 10,
      "outputs": [
        {
          "output_type": "stream",
          "name": "stdout",
          "text": [
            "hello\n"
          ]
        }
      ]
    },
    {
      "cell_type": "markdown",
      "source": [
        "** What is the main difference between a tuple and a list? **"
      ],
      "metadata": {
        "id": "h66af9nOx97r"
      }
    },
    {
      "cell_type": "code",
      "source": [
        "print(\"tuples are immutable as opposed to lists which are mutable\")"
      ],
      "metadata": {
        "id": "GYqPERV_x_Oz",
        "colab": {
          "base_uri": "https://localhost:8080/"
        },
        "outputId": "dc92baf9-2c24-405f-98f1-4dc9fd1995f1"
      },
      "execution_count": 9,
      "outputs": [
        {
          "output_type": "stream",
          "name": "stdout",
          "text": [
            "tuples are immutable as opposed to lists which are mutable\n"
          ]
        }
      ]
    },
    {
      "cell_type": "markdown",
      "source": [
        "** Create a function that grabs the email website domain from a string in the form: **\n",
        "\n",
        "    user@domain.com\n",
        "    \n",
        "**So for example, passing \"user@domain.com\" would return: domain.com**"
      ],
      "metadata": {
        "id": "p-Lo6IcSyDbz"
      }
    },
    {
      "cell_type": "code",
      "source": [
        "string = \"user@domain.com\"\n",
        "\n",
        "def grabDomain(string):\n",
        "    myString = \"\"\n",
        "    found = False\n",
        "    for i in string:\n",
        "        if(found):\n",
        "            myString = myString + i\n",
        "            \n",
        "        if(i == \"@\"):\n",
        "            \n",
        "            found = True\n",
        "            \n",
        "    return myString\n",
        "\n",
        "print(grabDomain(string))\n",
        "        "
      ],
      "metadata": {
        "id": "1vvU3XZVyG8i",
        "colab": {
          "base_uri": "https://localhost:8080/"
        },
        "outputId": "25098638-8409-49ad-8f05-6369dd551452"
      },
      "execution_count": 11,
      "outputs": [
        {
          "output_type": "stream",
          "name": "stdout",
          "text": [
            "domain.com\n"
          ]
        }
      ]
    },
    {
      "cell_type": "code",
      "source": [
        "print(grabDomain(string))"
      ],
      "metadata": {
        "id": "jWaipHEWyOtt",
        "colab": {
          "base_uri": "https://localhost:8080/"
        },
        "outputId": "66ed3e88-e4cd-4324-84e0-7c6dcaf9ee1d"
      },
      "execution_count": 12,
      "outputs": [
        {
          "output_type": "stream",
          "name": "stdout",
          "text": [
            "domain.com\n"
          ]
        }
      ]
    },
    {
      "cell_type": "markdown",
      "source": [
        "** Create a basic function that returns True if the word 'dog' is contained in the input string. Don't worry about edge cases like a punctuation being attached to the word dog, but do account for capitalization. **"
      ],
      "metadata": {
        "id": "ZMneLDIvyT_s"
      }
    },
    {
      "cell_type": "code",
      "source": [
        "def countFound(string , searchString):\n",
        "    \n",
        "    count = 0\n",
        "    \n",
        "    for i in range(len(string)):\n",
        "        if(string[i:i+len(searchString)] == searchString):\n",
        "            count = count + 1\n",
        "            \n",
        "    return count\n",
        "\n",
        "\n",
        "\n",
        "def foundTrueFalse(string , searchString):\n",
        "    \n",
        "    count = countFound(string , searchString)\n",
        "    \n",
        "    if(count > 0):\n",
        "       return True\n",
        "    else:\n",
        "        return False\n",
        "\n",
        "\n",
        "print(foundTrueFalse(\"cksdog nkjsbak dog\" , \"dog\"))\n"
      ],
      "metadata": {
        "id": "LbE9SNRQyYD_",
        "colab": {
          "base_uri": "https://localhost:8080/"
        },
        "outputId": "304064c2-388a-4263-ce79-ef2be8f8378c"
      },
      "execution_count": 13,
      "outputs": [
        {
          "output_type": "stream",
          "name": "stdout",
          "text": [
            "True\n"
          ]
        }
      ]
    },
    {
      "cell_type": "code",
      "source": [
        "print(foundTrueFalse(\"cksdog nkjsbak dog\" , \"dog\"))\n"
      ],
      "metadata": {
        "id": "ZWKRGVuyymJf",
        "colab": {
          "base_uri": "https://localhost:8080/"
        },
        "outputId": "c4bb0a25-89b9-47a1-eb22-4b8656ae2f78"
      },
      "execution_count": 14,
      "outputs": [
        {
          "output_type": "stream",
          "name": "stdout",
          "text": [
            "True\n"
          ]
        }
      ]
    },
    {
      "cell_type": "markdown",
      "source": [
        "** Create a function that counts the number of times the word \"dog\" occurs in a string. Again ignore edge cases. **"
      ],
      "metadata": {
        "id": "M7PgrkKnyiDt"
      }
    },
    {
      "cell_type": "code",
      "source": [
        "def countFound(string , searchString):\n",
        "    \n",
        "    count = 0\n",
        "    \n",
        "    for i in range(len(string)):\n",
        "        if(string[i:i+len(searchString)] == searchString):\n",
        "            count = count + 1\n",
        "            \n",
        "    return count\n",
        "\n",
        "\n",
        "print(countFound(\"cksdog nkjsbak dog\" , \"dog\"))\n"
      ],
      "metadata": {
        "id": "s-t34g1Gysgg",
        "colab": {
          "base_uri": "https://localhost:8080/"
        },
        "outputId": "f3fefdc9-b1ec-4146-f29d-fce2c8ef8d65"
      },
      "execution_count": 15,
      "outputs": [
        {
          "output_type": "stream",
          "name": "stdout",
          "text": [
            "2\n"
          ]
        }
      ]
    },
    {
      "cell_type": "code",
      "source": [
        "print(countFound(\"cksdog nkjsbak dog\" , \"dog\"))\n"
      ],
      "metadata": {
        "id": "cTJ6xbgCyyc2",
        "colab": {
          "base_uri": "https://localhost:8080/"
        },
        "outputId": "a2ec366b-bad9-40d9-f4c3-ced679a9b7d7"
      },
      "execution_count": 16,
      "outputs": [
        {
          "output_type": "stream",
          "name": "stdout",
          "text": [
            "2\n"
          ]
        }
      ]
    },
    {
      "cell_type": "markdown",
      "source": [
        "### Problem\n",
        "**You are driving a little too fast, and a police officer stops you. Write a function\n",
        "  to return one of 3 possible results: \"No ticket\", \"Small ticket\", or \"Big Ticket\". \n",
        "  If your speed is 60 or less, the result is \"No Ticket\". If speed is between 61 \n",
        "  and 80 inclusive, the result is \"Small Ticket\". If speed is 81 or more, the result is \"Big    Ticket\". Unless it is your birthday (encoded as a boolean value in the parameters of the function) -- on your birthday, your speed can be 5 higher in all \n",
        "  cases. **"
      ],
      "metadata": {
        "id": "sirO-jj8y1Lv"
      }
    },
    {
      "cell_type": "code",
      "source": [
        "def caught_speeding(speed, is_birthday):\n",
        "    \n",
        "    if is_birthday:\n",
        "        speeding = speed - 5\n",
        "    else:\n",
        "        speeding = speed\n",
        "    \n",
        "    if speeding > 80:\n",
        "        return 'Big Ticket'\n",
        "    elif speeding > 60:\n",
        "        return 'Small Ticket'\n",
        "    else:\n",
        "        return 'No Ticket'"
      ],
      "metadata": {
        "id": "3qx9kpFZy4Qh"
      },
      "execution_count": 17,
      "outputs": []
    },
    {
      "cell_type": "code",
      "source": [
        "print(caught_speeding(90,True))"
      ],
      "metadata": {
        "id": "G2RNrM39y8LJ",
        "colab": {
          "base_uri": "https://localhost:8080/"
        },
        "outputId": "91c920de-1e33-4bf8-d754-9fda3a3a6f79"
      },
      "execution_count": 18,
      "outputs": [
        {
          "output_type": "stream",
          "name": "stdout",
          "text": [
            "Big Ticket\n"
          ]
        }
      ]
    },
    {
      "cell_type": "code",
      "source": [
        "print(caught_speeding(80,True))"
      ],
      "metadata": {
        "id": "C2E5zrrUzDhK",
        "colab": {
          "base_uri": "https://localhost:8080/"
        },
        "outputId": "859693d6-8965-4f9d-8b7c-c0fde65de7f5"
      },
      "execution_count": 19,
      "outputs": [
        {
          "output_type": "stream",
          "name": "stdout",
          "text": [
            "Small Ticket\n"
          ]
        }
      ]
    },
    {
      "cell_type": "markdown",
      "source": [
        "Create an employee list with basic salary values(at least 5 values for 5 employees)  and using a for loop retreive each employee salary and calculate total salary expenditure. "
      ],
      "metadata": {
        "id": "1hf0mHD0y_iZ"
      }
    },
    {
      "cell_type": "code",
      "source": [
        "employee_list=[100,150,500,800,1500]\n",
        "sum=0\n",
        "for i in employee_list:\n",
        "  sum+=i\n",
        "print(sum)"
      ],
      "metadata": {
        "id": "rxtCgnl9zIYU",
        "colab": {
          "base_uri": "https://localhost:8080/"
        },
        "outputId": "d516b80b-2ae9-47ab-b4b1-c349c09b1d19"
      },
      "execution_count": 20,
      "outputs": [
        {
          "output_type": "stream",
          "name": "stdout",
          "text": [
            "3050\n"
          ]
        }
      ]
    },
    {
      "cell_type": "markdown",
      "source": [
        "Create two dictionaries in Python:\n",
        "\n",
        "First one to contain fields as Empid,  Empname,  Basicpay\n",
        "\n",
        "Second dictionary to contain fields as DeptName,  DeptId.\n",
        "\n",
        "Combine both dictionaries. "
      ],
      "metadata": {
        "id": "cXuhgbCBzRec"
      }
    },
    {
      "cell_type": "code",
      "source": [
        "dict1={\"Empid\":\"ID019\",\"Empname\":\"Keerthana\",\"Basicpay\":\"200000\"}\n",
        "dict2={\"DeptName\":\"D1\",\"DeptId\":\"DID2\"}\n",
        "dict1.update(dict2)\n",
        "print(dict1)"
      ],
      "metadata": {
        "id": "yjIuoprnzSUh",
        "colab": {
          "base_uri": "https://localhost:8080/"
        },
        "outputId": "5fc3e74f-8f4b-4a89-9f7a-8c3b413873b3"
      },
      "execution_count": 21,
      "outputs": [
        {
          "output_type": "stream",
          "name": "stdout",
          "text": [
            "{'Empid': 'ID019', 'Empname': 'Keerthana', 'Basicpay': '200000', 'DeptName': 'D1', 'DeptId': 'DID2'}\n"
          ]
        }
      ]
    }
  ]
}